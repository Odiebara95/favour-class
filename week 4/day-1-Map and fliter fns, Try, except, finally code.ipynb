{
 "cells": [
  {
   "cell_type": "markdown",
   "metadata": {},
   "source": [
    "## Map fns"
   ]
  },
  {
   "cell_type": "code",
   "execution_count": 4,
   "metadata": {},
   "outputs": [],
   "source": [
    "## map() it returns the specified iterator with the specified fns applied to each item.\n",
    "## basicly we use the map funs to optimize codes that could be written using loops."
   ]
  },
  {
   "cell_type": "code",
   "execution_count": 6,
   "metadata": {},
   "outputs": [
    {
     "data": {
      "text/plain": [
       "[1, 9, 25, 49, 81, 121]"
      ]
     },
     "execution_count": 6,
     "metadata": {},
     "output_type": "execute_result"
    }
   ],
   "source": [
    "numbers=[1,3,5,7,9,11]\n",
    "squared=[]\n",
    "for n in numbers:\n",
    "    squared.append(n**2)\n",
    "squared"
   ]
  },
  {
   "cell_type": "code",
   "execution_count": 8,
   "metadata": {},
   "outputs": [
    {
     "data": {
      "text/plain": [
       "[4, 16, 36, 64, 100, 144]"
      ]
     },
     "execution_count": 8,
     "metadata": {},
     "output_type": "execute_result"
    }
   ],
   "source": [
    "new_number=[2,4,6,8,10,12]\n",
    "def square(new_number):\n",
    "    return new_number** 2\n",
    "num_squared=map(square,new_number) ## map(function, iterable)\n",
    "list(num_squared)"
   ]
  },
  {
   "cell_type": "code",
   "execution_count": 11,
   "metadata": {},
   "outputs": [
    {
     "name": "stdout",
     "output_type": "stream",
     "text": [
      "[1, 4, 9, 16, 25, 36, 49, 64, 81, 100]\n"
     ]
    }
   ],
   "source": [
    "new_number=[1,2,3,4,5,6,7,8,9,10]\n",
    "def square(new_number):\n",
    "    return new_number** 2\n",
    "num_squared=map(square,new_number)\n",
    "list_number=list(num_squared)\n",
    "print(list_number)"
   ]
  },
  {
   "cell_type": "code",
   "execution_count": 15,
   "metadata": {},
   "outputs": [
    {
     "data": {
      "text/plain": [
       "[25, 100, 225, 400, 625, 900]"
      ]
     },
     "execution_count": 15,
     "metadata": {},
     "output_type": "execute_result"
    }
   ],
   "source": [
    "new_number=[5,10,15,20,25,30]\n",
    "num_squared=map(square,new_number)\n",
    "list(num_squared)"
   ]
  },
  {
   "cell_type": "code",
   "execution_count": 16,
   "metadata": {},
   "outputs": [
    {
     "data": {
      "text/plain": [
       "16"
      ]
     },
     "execution_count": 16,
     "metadata": {},
     "output_type": "execute_result"
    }
   ],
   "source": [
    "4**2"
   ]
  },
  {
   "cell_type": "code",
   "execution_count": 17,
   "metadata": {},
   "outputs": [
    {
     "data": {
      "text/plain": [
       "16"
      ]
     },
     "execution_count": 17,
     "metadata": {},
     "output_type": "execute_result"
    }
   ],
   "source": [
    "pow(4,2) # the power fns"
   ]
  },
  {
   "cell_type": "code",
   "execution_count": 18,
   "metadata": {},
   "outputs": [
    {
     "data": {
      "text/plain": [
       "1000"
      ]
     },
     "execution_count": 18,
     "metadata": {},
     "output_type": "execute_result"
    }
   ],
   "source": [
    "pow(10,3)"
   ]
  },
  {
   "cell_type": "code",
   "execution_count": 19,
   "metadata": {},
   "outputs": [],
   "source": [
    "words=[\"phone\",'tablet','ipad','desktop','machinery']\n",
    "word_lenght=map(len,words)"
   ]
  },
  {
   "cell_type": "code",
   "execution_count": 20,
   "metadata": {},
   "outputs": [
    {
     "data": {
      "text/plain": [
       "[5, 6, 4, 7, 9]"
      ]
     },
     "execution_count": 20,
     "metadata": {},
     "output_type": "execute_result"
    }
   ],
   "source": [
    "list(word_lenght)"
   ]
  },
  {
   "cell_type": "code",
   "execution_count": 21,
   "metadata": {},
   "outputs": [
    {
     "data": {
      "text/plain": [
       "5"
      ]
     },
     "execution_count": 21,
     "metadata": {},
     "output_type": "execute_result"
    }
   ],
   "source": [
    "len(words)"
   ]
  },
  {
   "cell_type": "code",
   "execution_count": 24,
   "metadata": {},
   "outputs": [
    {
     "data": {
      "text/plain": [
       "5"
      ]
     },
     "execution_count": 24,
     "metadata": {},
     "output_type": "execute_result"
    }
   ],
   "source": [
    "def ourLength(words):\n",
    "    return len(words)\n",
    "theLength=map(ourLength,words)\n",
    "len(list(theLength))"
   ]
  },
  {
   "cell_type": "code",
   "execution_count": 25,
   "metadata": {},
   "outputs": [],
   "source": [
    "## you can also use this with any inbuilt function in python"
   ]
  },
  {
   "cell_type": "code",
   "execution_count": 26,
   "metadata": {},
   "outputs": [
    {
     "data": {
      "text/plain": [
       "[1, 32, 729]"
      ]
     },
     "execution_count": 26,
     "metadata": {},
     "output_type": "execute_result"
    }
   ],
   "source": [
    "# iterating between two lists using the map function\n",
    "first=[1,2,3]\n",
    "second=[4,5,6]\n",
    "list(map(pow,first,second))"
   ]
  },
  {
   "cell_type": "code",
   "execution_count": null,
   "metadata": {},
   "outputs": [],
   "source": [
    "### mapping through two lists with different length can also work only with the iterator equivalent to the other list"
   ]
  },
  {
   "cell_type": "code",
   "execution_count": 27,
   "metadata": {},
   "outputs": [
    {
     "data": {
      "text/plain": [
       "[1, 32, 729]"
      ]
     },
     "execution_count": 27,
     "metadata": {},
     "output_type": "execute_result"
    }
   ],
   "source": [
    "first=[1,2,3,4]\n",
    "second=[4,5,6]\n",
    "list(map(pow,first,second))"
   ]
  },
  {
   "cell_type": "code",
   "execution_count": 28,
   "metadata": {},
   "outputs": [
    {
     "data": {
      "text/plain": [
       "[1, 32, 729, 16384]"
      ]
     },
     "execution_count": 28,
     "metadata": {},
     "output_type": "execute_result"
    }
   ],
   "source": [
    "first=[1,2,3,4]\n",
    "second=[4,5,6,7,8]\n",
    "list(map(pow,first,second))"
   ]
  },
  {
   "cell_type": "markdown",
   "metadata": {},
   "source": [
    "## Filter fns"
   ]
  },
  {
   "cell_type": "code",
   "execution_count": 29,
   "metadata": {},
   "outputs": [],
   "source": [
    "## just as the name implies, the function filters items in an iterable."
   ]
  },
  {
   "cell_type": "code",
   "execution_count": 30,
   "metadata": {},
   "outputs": [
    {
     "data": {
      "text/plain": [
       "[18, 24, 32, 20, 19]"
      ]
     },
     "execution_count": 30,
     "metadata": {},
     "output_type": "execute_result"
    }
   ],
   "source": [
    "ages=[5,12,17,18,24,32,20,19]\n",
    "def adult(x):\n",
    "    if x<18:\n",
    "        return False\n",
    "    else:\n",
    "        return True\n",
    "adults=filter(adult,ages)\n",
    "list(adults)"
   ]
  },
  {
   "cell_type": "code",
   "execution_count": 31,
   "metadata": {},
   "outputs": [
    {
     "name": "stdout",
     "output_type": "stream",
     "text": [
      "18\n",
      "24\n",
      "32\n",
      "20\n",
      "19\n"
     ]
    }
   ],
   "source": [
    "ages=[5,12,17,18,24,32,20,19]\n",
    "def adult(x):\n",
    "    if x<18:\n",
    "        return False\n",
    "    else:\n",
    "        return True\n",
    "adults=filter(adult,ages)\n",
    "for x in adults:\n",
    "    print(x)"
   ]
  },
  {
   "cell_type": "code",
   "execution_count": 33,
   "metadata": {},
   "outputs": [
    {
     "data": {
      "text/plain": [
       "('a', 'e', 'i', 'o')"
      ]
     },
     "execution_count": 33,
     "metadata": {},
     "output_type": "execute_result"
    }
   ],
   "source": [
    "letters=['a','b','d','e','i','j','o']\n",
    "def filter_vowels(letter):\n",
    "    vowels=['a','o','i','e','u']\n",
    "    return True if letter in vowels else False\n",
    "filtered_vowels=filter(filter_vowels,letters)\n",
    "tuple(filtered_vowels) ## outputing using a tuple\n",
    "# a set can be used too, but any duplicate items will be removed by default."
   ]
  },
  {
   "cell_type": "markdown",
   "metadata": {},
   "source": [
    "## Reduce fns"
   ]
  },
  {
   "cell_type": "markdown",
   "metadata": {},
   "source": [
    "### reduce applies a fns of two arguments cummulatively to the elements of an iterable, optionally starting with an initial argument\n",
    "### syntax= reduce(function,iterable,initial(optional))"
   ]
  },
  {
   "cell_type": "code",
   "execution_count": 35,
   "metadata": {},
   "outputs": [],
   "source": [
    "from functools import reduce"
   ]
  },
  {
   "cell_type": "code",
   "execution_count": 41,
   "metadata": {},
   "outputs": [
    {
     "name": "stdout",
     "output_type": "stream",
     "text": [
      "first= 3 second= 4\n",
      "first= 7 second= 6\n",
      "first= 13 second= 9\n",
      "first= 22 second= 34\n",
      "first= 56 second= 12\n",
      "68\n"
     ]
    }
   ],
   "source": [
    "## let us implement the sum function\n",
    "numbers=[3,4,6,9,34,12]\n",
    "def summing(first,second):\n",
    "    print(\"first=\",first, \"second=\", second)\n",
    "    return first + second\n",
    "result=reduce(summing,numbers)\n",
    "print(result)"
   ]
  },
  {
   "cell_type": "code",
   "execution_count": 40,
   "metadata": {},
   "outputs": [
    {
     "name": "stdout",
     "output_type": "stream",
     "text": [
      "91\n"
     ]
    }
   ],
   "source": [
    "## adding an initial value in the reduce fns\n",
    "numbers=[3,4,6,9,34,12]\n",
    "def summing(first,second):\n",
    "    return first + second\n",
    "result=reduce(summing,numbers,23)\n",
    "print(result)"
   ]
  },
  {
   "cell_type": "code",
   "execution_count": 46,
   "metadata": {},
   "outputs": [
    {
     "name": "stdout",
     "output_type": "stream",
     "text": [
      "x= 1 y= 2\n",
      "x= 2 y= 3\n",
      "x= 6 y= 4\n",
      "x= 24 y= 5\n",
      "x= 120 y= 6\n",
      "factorial of 6 is: 720 \n"
     ]
    }
   ],
   "source": [
    "def mult(x,y):\n",
    "    print(\"x=\",x, \"y=\", y)\n",
    "    return x*y\n",
    "fact=reduce(mult, range(1,7))\n",
    "print(f'factorial of 6 is: {fact} ')"
   ]
  },
  {
   "cell_type": "code",
   "execution_count": 48,
   "metadata": {},
   "outputs": [
    {
     "name": "stdout",
     "output_type": "stream",
     "text": [
      "Enter a number: 4\n",
      "x= 1 y= 2\n",
      "x= 2 y= 3\n",
      "x= 6 y= 4\n",
      "factorial of 4 is: 24 \n"
     ]
    }
   ],
   "source": [
    "# program that do the factorial of a number\n",
    "factorial_num=int(input(\"Enter a number: \"))\n",
    "def mult(x,y):\n",
    "    print(\"x=\",x, \"y=\", y)\n",
    "    return x*y\n",
    "fact=reduce(mult, range(1,factorial_num+1))\n",
    "print(f'factorial of {factorial_num} is: {fact} ')"
   ]
  },
  {
   "cell_type": "markdown",
   "metadata": {},
   "source": [
    "## Try, Except and Finally"
   ]
  },
  {
   "cell_type": "code",
   "execution_count": 50,
   "metadata": {},
   "outputs": [
    {
     "name": "stdout",
     "output_type": "stream",
     "text": [
      "an exception occured\n"
     ]
    }
   ],
   "source": [
    "try:\n",
    "    print(z)\n",
    "except:\n",
    "    print('an exception occured') # without this it will raise an error"
   ]
  },
  {
   "cell_type": "code",
   "execution_count": 51,
   "metadata": {},
   "outputs": [
    {
     "ename": "NameError",
     "evalue": "name 'z' is not defined",
     "output_type": "error",
     "traceback": [
      "\u001b[1;31m---------------------------------------------------------------------------\u001b[0m",
      "\u001b[1;31mNameError\u001b[0m                                 Traceback (most recent call last)",
      "\u001b[1;32m<ipython-input-51-c01ac3f50fdc>\u001b[0m in \u001b[0;36m<module>\u001b[1;34m\u001b[0m\n\u001b[1;32m----> 1\u001b[1;33m \u001b[0mprint\u001b[0m\u001b[1;33m(\u001b[0m\u001b[0mz\u001b[0m\u001b[1;33m)\u001b[0m\u001b[1;33m\u001b[0m\u001b[1;33m\u001b[0m\u001b[0m\n\u001b[0m",
      "\u001b[1;31mNameError\u001b[0m: name 'z' is not defined"
     ]
    }
   ],
   "source": [
    "print(z)"
   ]
  },
  {
   "cell_type": "code",
   "execution_count": 58,
   "metadata": {},
   "outputs": [
    {
     "name": "stdout",
     "output_type": "stream",
     "text": [
      "Something went wrong\n"
     ]
    }
   ],
   "source": [
    "# using else code in the try & Except block\n",
    "try:\n",
    "    print(r)\n",
    "except:\n",
    "    print('Something went wrong') \n",
    "else:\n",
    "    print('nothing went wrong')\n"
   ]
  },
  {
   "cell_type": "code",
   "execution_count": 54,
   "metadata": {},
   "outputs": [
    {
     "name": "stdout",
     "output_type": "stream",
     "text": [
      "variable z is not define\n"
     ]
    }
   ],
   "source": [
    "try:\n",
    "    print(r)\n",
    "except NameError:\n",
    "    print('variable z is not define') \n",
    "except ValueError:\n",
    "    print('not supposed to be this type of data')\n",
    "except:\n",
    "    print('Something else went wrong') \n",
    "else:\n",
    "    print('nothing went wrong')"
   ]
  },
  {
   "cell_type": "code",
   "execution_count": 57,
   "metadata": {},
   "outputs": [
    {
     "name": "stdout",
     "output_type": "stream",
     "text": [
      "19\n",
      "nothing went wrong\n"
     ]
    }
   ],
   "source": [
    "try:\n",
    "    print(x)\n",
    "except NameError:\n",
    "    print('variable z is not define') \n",
    "except ValueError:\n",
    "    print('not supposed to be this type of data')\n",
    "except:\n",
    "    print('Something else went wrong') \n",
    "else:\n",
    "    print('nothing went wrong')"
   ]
  },
  {
   "cell_type": "code",
   "execution_count": 63,
   "metadata": {},
   "outputs": [
    {
     "name": "stdout",
     "output_type": "stream",
     "text": [
      "19\n",
      "something else happened\n",
      "the \"try except\" is finished\n"
     ]
    }
   ],
   "source": [
    "## we use the finally block to conclude our Try block if necessary NB: it will always execute.\n",
    "try:\n",
    "    print(x)\n",
    "except:\n",
    "    print('something went wrong')\n",
    "else:\n",
    "    print('something else happened')\n",
    "finally:\n",
    "    print('the \"try except\" is finished')"
   ]
  },
  {
   "cell_type": "code",
   "execution_count": 62,
   "metadata": {},
   "outputs": [
    {
     "name": "stdout",
     "output_type": "stream",
     "text": [
      "something went wrong\n",
      "the \"try except\" is finished\n"
     ]
    }
   ],
   "source": [
    "try:\n",
    "    print(r)\n",
    "except:\n",
    "    print('something went wrong')\n",
    "else:\n",
    "    print('something else happened')\n",
    "finally:\n",
    "    print('the \"try except\" is finished')"
   ]
  },
  {
   "cell_type": "code",
   "execution_count": null,
   "metadata": {},
   "outputs": [],
   "source": []
  }
 ],
 "metadata": {
  "kernelspec": {
   "display_name": "Python 3",
   "language": "python",
   "name": "python3"
  },
  "language_info": {
   "codemirror_mode": {
    "name": "ipython",
    "version": 3
   },
   "file_extension": ".py",
   "mimetype": "text/x-python",
   "name": "python",
   "nbconvert_exporter": "python",
   "pygments_lexer": "ipython3",
   "version": "3.7.3"
  }
 },
 "nbformat": 4,
 "nbformat_minor": 2
}
