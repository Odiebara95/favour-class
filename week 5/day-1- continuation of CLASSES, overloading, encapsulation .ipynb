{
 "cells": [
  {
   "cell_type": "code",
   "execution_count": 9,
   "metadata": {},
   "outputs": [
    {
     "name": "stdout",
     "output_type": "stream",
     "text": [
      "Hello, and welcome!\n"
     ]
    }
   ],
   "source": [
    "class Parent:\n",
    "    def __init__(self,txt):\n",
    "        self.message=txt\n",
    "    def printmessage(self):\n",
    "        print(self.message)\n",
    "        \n",
    "class Child(Parent):\n",
    "    pass\n",
    "\n",
    "x= Child(\"Hello, and welcome!\")\n",
    "x.printmessage()"
   ]
  },
  {
   "cell_type": "code",
   "execution_count": 10,
   "metadata": {},
   "outputs": [
    {
     "name": "stdout",
     "output_type": "stream",
     "text": [
      "Hello, and welcome!\n"
     ]
    }
   ],
   "source": [
    "class Parent:\n",
    "    def __init__(self,txt):\n",
    "        self.message=txt\n",
    "    def printmessage(self):\n",
    "        print(self.message)\n",
    "        \n",
    "class Child(Parent):\n",
    "    def __init__(self,txt):\n",
    "        super().__init__(txt)\n",
    "\n",
    "x= Child(\"Hello, and welcome!\")\n",
    "x.printmessage()"
   ]
  },
  {
   "cell_type": "markdown",
   "metadata": {},
   "source": [
    "## there are two ways inheritance of a class works."
   ]
  },
  {
   "cell_type": "markdown",
   "metadata": {},
   "source": [
    "## class overloading"
   ]
  },
  {
   "cell_type": "code",
   "execution_count": 25,
   "metadata": {},
   "outputs": [
    {
     "name": "stdout",
     "output_type": "stream",
     "text": [
      "Hello \n",
      "Hello Endurance\n"
     ]
    }
   ],
   "source": [
    "class Person:\n",
    "    def Hello(self, name=None):\n",
    "        if name is not None:\n",
    "            print(\"Hello \" + name)\n",
    "        else:\n",
    "            print(\"Hello \")\n",
    "obj=Person()\n",
    "obj.Hello()\n",
    "obj.Hello('Endurance')"
   ]
  },
  {
   "cell_type": "code",
   "execution_count": 24,
   "metadata": {},
   "outputs": [
    {
     "name": "stdout",
     "output_type": "stream",
     "text": [
      "Hello \n",
      "Hello Endurance\n"
     ]
    }
   ],
   "source": [
    "obj.Hello()\n",
    "obj.Hello('Endurance')"
   ]
  },
  {
   "cell_type": "code",
   "execution_count": 21,
   "metadata": {},
   "outputs": [
    {
     "name": "stdout",
     "output_type": "stream",
     "text": [
      "Area Value is: 0\n",
      "Area Value is: 25\n",
      "Area Value is: 15\n"
     ]
    }
   ],
   "source": [
    "class Compute:\n",
    "    def area(self, x=None,y=None):\n",
    "        if x != None and y != None:\n",
    "            return x*y\n",
    "        elif x != None:\n",
    "            return x*x\n",
    "        else:\n",
    "            return 0\n",
    "        \n",
    "print('Area Value is:', x.area())\n",
    "print('Area Value is:', x.area(5))\n",
    "print('Area Value is:', x.area(3,5))"
   ]
  },
  {
   "cell_type": "code",
   "execution_count": 22,
   "metadata": {},
   "outputs": [
    {
     "name": "stdout",
     "output_type": "stream",
     "text": [
      "Area Value is: 0\n",
      "Area Value is: 25\n",
      "Area Value is: 15\n"
     ]
    }
   ],
   "source": [
    "x=Compute()\n",
    "print('Area Value is:', x.area())\n",
    "print('Area Value is:', x.area(5))\n",
    "print('Area Value is:', x.area(3,5))"
   ]
  },
  {
   "cell_type": "markdown",
   "metadata": {},
   "source": [
    "## class Encapsulation"
   ]
  },
  {
   "cell_type": "code",
   "execution_count": 26,
   "metadata": {},
   "outputs": [
    {
     "name": "stdout",
     "output_type": "stream",
     "text": [
      "Name:  Jessie salary:  8000\n",
      "Jessie is working on NLP\n"
     ]
    }
   ],
   "source": [
    "class Employee:\n",
    "    # constructor\n",
    "    def __init__(self,name,salary,project):\n",
    "        # data members\n",
    "        self.name=name\n",
    "        self.salary=salary\n",
    "        self.project=project\n",
    "    \n",
    "    #method to display employee details\n",
    "    def show(self):\n",
    "        # accessing public data members\n",
    "        print(\"Name: \", self.name, 'salary: ', self.salary)\n",
    "        \n",
    "    def work(self):\n",
    "        print(self.name, 'is working on', self.project)\n",
    "    \n",
    "# creating object of a class\n",
    "emp=Employee('Jessie', 8000, 'NLP')\n",
    "\n",
    "# calling public method of the class\n",
    "emp.show()\n",
    "emp.work()\n"
   ]
  },
  {
   "cell_type": "markdown",
   "metadata": {},
   "source": [
    "### Public Member: Accessible anywhere from outside class\n",
    "### Private Member: Accessible within the class\n",
    "### Protected Member: Accessible within the class and its sub-classes"
   ]
  },
  {
   "cell_type": "markdown",
   "metadata": {},
   "source": [
    "### Example of Public member"
   ]
  },
  {
   "cell_type": "code",
   "execution_count": 17,
   "metadata": {},
   "outputs": [
    {
     "name": "stdout",
     "output_type": "stream",
     "text": [
      "Name:  Paul , salary:  80000\n",
      "Name:  Paul , salary:  80000\n"
     ]
    }
   ],
   "source": [
    "class Employee:\n",
    "    # constuctor\n",
    "    def __init__(self,name,salary):\n",
    "        # public data members\n",
    "        self.name=name\n",
    "        self.salary=salary\n",
    "    \n",
    "    #public instance method\n",
    "    def show(self):\n",
    "        # accessing public data members\n",
    "        print(\"Name: \", self.name, ', salary: ', self.salary)\n",
    "        \n",
    "# creating object of a class\n",
    "emp=Employee('Paul', 80000)\n",
    "# accessing public data members\n",
    "print(\"Name: \", emp.name, ', salary: ', emp.salary) ## note the emp\n",
    "# calling public method of the class\n",
    "emp.show()"
   ]
  },
  {
   "cell_type": "markdown",
   "metadata": {},
   "source": [
    "### Example of private members"
   ]
  },
  {
   "cell_type": "code",
   "execution_count": 19,
   "metadata": {},
   "outputs": [
    {
     "ename": "AttributeError",
     "evalue": "'Employee' object has no attribute '__salary'",
     "output_type": "error",
     "traceback": [
      "\u001b[1;31m---------------------------------------------------------------------------\u001b[0m",
      "\u001b[1;31mAttributeError\u001b[0m                            Traceback (most recent call last)",
      "\u001b[1;32m<ipython-input-19-f29d0038bd6a>\u001b[0m in \u001b[0;36m<module>\u001b[1;34m\u001b[0m\n\u001b[0;32m     11\u001b[0m \u001b[1;33m\u001b[0m\u001b[0m\n\u001b[0;32m     12\u001b[0m \u001b[1;31m# accessing private data members\u001b[0m\u001b[1;33m\u001b[0m\u001b[1;33m\u001b[0m\u001b[1;33m\u001b[0m\u001b[0m\n\u001b[1;32m---> 13\u001b[1;33m \u001b[0mprint\u001b[0m\u001b[1;33m(\u001b[0m\u001b[1;34m'Salary: '\u001b[0m\u001b[1;33m,\u001b[0m \u001b[0memp\u001b[0m\u001b[1;33m.\u001b[0m\u001b[0m__salary\u001b[0m\u001b[1;33m)\u001b[0m \u001b[1;31m## note the __ (double underscore)\u001b[0m\u001b[1;33m\u001b[0m\u001b[1;33m\u001b[0m\u001b[0m\n\u001b[0m",
      "\u001b[1;31mAttributeError\u001b[0m: 'Employee' object has no attribute '__salary'"
     ]
    }
   ],
   "source": [
    "class Employee:\n",
    "    # constuctor\n",
    "    def __init__(self,name,salary):\n",
    "        # public data members\n",
    "        self.name=name\n",
    "        # private member\n",
    "        self.__salary=salary\n",
    "    \n",
    "# creating object of a class\n",
    "emp=Employee('Favour', 40000)\n",
    "\n",
    "# accessing private data members\n",
    "print('Salary: ', emp.__salary) ## note the __ (double underscore)"
   ]
  },
  {
   "cell_type": "code",
   "execution_count": null,
   "metadata": {},
   "outputs": [],
   "source": [
    "# in the above example, the salary is a private variable. as you know, we cant access the private variable outside the class.\n",
    "# we can access private members from outside of a class using the following two approaches.\n",
    "# 1. create public method to access private numbers 2. use name mangling\n"
   ]
  },
  {
   "cell_type": "code",
   "execution_count": 28,
   "metadata": {},
   "outputs": [
    {
     "name": "stdout",
     "output_type": "stream",
     "text": [
      "fcghjklkhg 40000\n"
     ]
    }
   ],
   "source": [
    "## using the first method\n",
    "class Employee:\n",
    "    # constuctor\n",
    "    def __init__(self,name,salary):\n",
    "        # public data members\n",
    "        self.name=name\n",
    "        # private member\n",
    "        self.__salary=salary\n",
    "        \n",
    "      #public instance method\n",
    "    def show(self):\n",
    "        # private members are accessible from a class\n",
    "        print(\"Name: \", self.name, ', Salary: ', self.__salary)\n",
    "    \n",
    "# creating object of a class\n",
    "emp=Employee('Favour', 40000)\n",
    "\n",
    "# calling public method of the class\n",
    "emp.show()"
   ]
  },
  {
   "cell_type": "markdown",
   "metadata": {},
   "source": [
    "## name mangling syntax"
   ]
  },
  {
   "cell_type": "code",
   "execution_count": 22,
   "metadata": {},
   "outputs": [],
   "source": [
    "# object._Class__private member"
   ]
  },
  {
   "cell_type": "code",
   "execution_count": 29,
   "metadata": {},
   "outputs": [
    {
     "name": "stdout",
     "output_type": "stream",
     "text": [
      "Name: Favour\n",
      "Salary:  40000\n"
     ]
    }
   ],
   "source": [
    "## using the 2nd method\n",
    "class Employee:\n",
    "    # constuctor\n",
    "    def __init__(self,name,salary):\n",
    "        # public data members\n",
    "        self.name=name\n",
    "        # private member\n",
    "        self.__salary=salary\n",
    "    \n",
    "# creating object of a class\n",
    "emp=Employee('Favour', 40000)\n",
    "\n",
    "print('Name:', emp.name)\n",
    "# Direct access to private data members using name mangling\n",
    "print('Salary: ', emp._Employee__salary) ## name mangling"
   ]
  },
  {
   "cell_type": "markdown",
   "metadata": {},
   "source": [
    "## protected member in inheritance"
   ]
  },
  {
   "cell_type": "code",
   "execution_count": 38,
   "metadata": {},
   "outputs": [
    {
     "name": "stdout",
     "output_type": "stream",
     "text": [
      "working on project:  NLP\n"
     ]
    }
   ],
   "source": [
    "# base class\n",
    "class Company:\n",
    "    def __init__(self):\n",
    "        # protected member\n",
    "        self._project='NLP'\n",
    "\n",
    "# child class\n",
    "class Employee(Company):\n",
    "    def __init__(self,name):\n",
    "        self.name=name\n",
    "        super().__init__() # we use the super function when we want to add more arguments. in this case we added name\n",
    "    \n",
    "    def show(self):\n",
    "        #print(\"Employee Name: \", self.name)\n",
    "        # Accessing protected member in Child class\n",
    "        print(\"working on project: \", self._project)\n",
    "    \n",
    "# creating object of a class\n",
    "c=Employee('Jessie')\n",
    "c.show()"
   ]
  },
  {
   "cell_type": "code",
   "execution_count": null,
   "metadata": {},
   "outputs": [],
   "source": []
  }
 ],
 "metadata": {
  "kernelspec": {
   "display_name": "Python 3",
   "language": "python",
   "name": "python3"
  },
  "language_info": {
   "codemirror_mode": {
    "name": "ipython",
    "version": 3
   },
   "file_extension": ".py",
   "mimetype": "text/x-python",
   "name": "python",
   "nbconvert_exporter": "python",
   "pygments_lexer": "ipython3",
   "version": "3.7.3"
  }
 },
 "nbformat": 4,
 "nbformat_minor": 2
}
