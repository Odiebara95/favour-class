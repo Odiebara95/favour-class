{
 "cells": [
  {
   "cell_type": "markdown",
   "metadata": {},
   "source": [
    "## If statement"
   ]
  },
  {
   "cell_type": "code",
   "execution_count": 1,
   "metadata": {},
   "outputs": [],
   "source": [
    "# if :\n",
    "# do..........\n",
    "# elif.....\n",
    "# do.....\n",
    "#else:\n",
    "# do......"
   ]
  },
  {
   "cell_type": "markdown",
   "metadata": {},
   "source": [
    "## Exercise 34: Even or Odd?\n",
    "# Write a program that reads an integer from the user. Then your program should display a message indicating whether the integer is even or odd."
   ]
  },
  {
   "cell_type": "code",
   "execution_count": 10,
   "metadata": {},
   "outputs": [
    {
     "name": "stdout",
     "output_type": "stream",
     "text": [
      "Enter an integer number: -1\n",
      "-1 is an odd number\n"
     ]
    }
   ],
   "source": [
    "number=int(input(\"Enter an integer number: \"))\n",
    "if number==0:\n",
    "    print(f'{number} entered is zero, try another number')\n",
    "elif number%2==0:\n",
    "    print(f'{number} is an even number')\n",
    "else:\n",
    "    print(f'{number} is an odd number')\n",
    "    "
   ]
  },
  {
   "cell_type": "markdown",
   "metadata": {},
   "source": [
    "## absolute fns"
   ]
  },
  {
   "cell_type": "code",
   "execution_count": 11,
   "metadata": {},
   "outputs": [
    {
     "data": {
      "text/plain": [
       "2"
      ]
     },
     "execution_count": 11,
     "metadata": {},
     "output_type": "execute_result"
    }
   ],
   "source": [
    "abs(-2)"
   ]
  },
  {
   "cell_type": "code",
   "execution_count": 12,
   "metadata": {},
   "outputs": [
    {
     "name": "stdout",
     "output_type": "stream",
     "text": [
      "Enter an integer number: -10\n",
      "10 is an even number\n"
     ]
    }
   ],
   "source": [
    "## when you want your program to convert negative numbers to positive\n",
    "number=int(input(\"Enter an integer number: \"))\n",
    "number=abs(number)\n",
    "if number==0:\n",
    "    print(f'{number} entered is zero, try another number')\n",
    "elif number%2==0:\n",
    "    print(f'{number} is an even number')\n",
    "else:\n",
    "    print(f'{number} is an odd number')"
   ]
  },
  {
   "cell_type": "markdown",
   "metadata": {},
   "source": [
    "## Exercise 35: Dog Years\n",
    "#### It is commonly said that one human year is equivalent to 7 dog years. However this simple conversion fails to recognize that dogs reach adulthood in approximately two years. As a result, some people believe that it is better to count each of the first two human years as 10.5 dog years, and then count each additional human year as 4 dog years.\n",
    "#### Write a program that implements the conversion from human years to dog years described in the previous paragraph. Ensure that your program works correctly for conversions of less than two human years and for conversions of two or more human years. Your program should display an appropriate error message if the user enters a negative number."
   ]
  },
  {
   "cell_type": "code",
   "execution_count": 22,
   "metadata": {},
   "outputs": [
    {
     "name": "stdout",
     "output_type": "stream",
     "text": [
      "Enter number of human Year(s): 34\n",
      "34.0 human year is equivalent to 149.0 dog years\n"
     ]
    }
   ],
   "source": [
    "human_year=float(input(\"Enter number of human Year(s): \"))\n",
    "if human_year<0:\n",
    "    print(\"Please enter a positive integer\")\n",
    "elif human_year<=2:\n",
    "    dog_years=human_year*10.5\n",
    "    print (f\"{human_year} human year is equivalent to {dog_years} dog years\")\n",
    "else:\n",
    "    x= human_year-2\n",
    "    dog_years= 2*(10.5) + (x*4)\n",
    "    print(f\"{human_year} human year is equivalent to {dog_years} dog years\")"
   ]
  },
  {
   "cell_type": "markdown",
   "metadata": {},
   "source": [
    "## Loops"
   ]
  },
  {
   "cell_type": "markdown",
   "metadata": {},
   "source": [
    "## while loops"
   ]
  },
  {
   "cell_type": "code",
   "execution_count": 27,
   "metadata": {},
   "outputs": [
    {
     "name": "stdout",
     "output_type": "stream",
     "text": [
      "1\n",
      "2\n",
      "3\n",
      "4\n",
      "5\n",
      "6\n",
      "7\n",
      "8\n",
      "9\n"
     ]
    }
   ],
   "source": [
    "paul=1\n",
    "while paul <= 9:\n",
    "    print(paul)\n",
    "    paul+=1"
   ]
  },
  {
   "cell_type": "code",
   "execution_count": 6,
   "metadata": {},
   "outputs": [
    {
     "name": "stdout",
     "output_type": "stream",
     "text": [
      "1\n",
      "2\n",
      "3\n"
     ]
    }
   ],
   "source": [
    "j=1\n",
    "while j <= 9:\n",
    "    if j==4:\n",
    "        break\n",
    "    print(j)\n",
    "    j+=1"
   ]
  },
  {
   "cell_type": "code",
   "execution_count": 4,
   "metadata": {},
   "outputs": [
    {
     "name": "stdout",
     "output_type": "stream",
     "text": [
      "2\n",
      "3\n",
      "5\n",
      "6\n",
      "7\n",
      "8\n",
      "9\n"
     ]
    }
   ],
   "source": [
    "j=1\n",
    "while j < 9:\n",
    "    j+=1\n",
    "    if j==4:\n",
    "        continue ##continue\n",
    "    print(j)    "
   ]
  },
  {
   "cell_type": "code",
   "execution_count": 6,
   "metadata": {},
   "outputs": [
    {
     "name": "stdout",
     "output_type": "stream",
     "text": [
      "1\n",
      "2\n",
      "3\n"
     ]
    }
   ],
   "source": [
    "j=0\n",
    "while j < 9:\n",
    "    j+=1\n",
    "    if j==4:\n",
    "        break ##break\n",
    "    print(j)   "
   ]
  },
  {
   "cell_type": "code",
   "execution_count": 8,
   "metadata": {},
   "outputs": [
    {
     "name": "stdout",
     "output_type": "stream",
     "text": [
      "2\n",
      "3\n",
      "5\n",
      "7\n",
      "8\n",
      "9\n"
     ]
    }
   ],
   "source": [
    "j=1\n",
    "while j < 9:\n",
    "    j+=1\n",
    "    if j==4 or j==6:\n",
    "        continue ##continue\n",
    "    print(j)   "
   ]
  },
  {
   "cell_type": "markdown",
   "metadata": {},
   "source": [
    "## FOR LOOP"
   ]
  },
  {
   "cell_type": "code",
   "execution_count": 11,
   "metadata": {},
   "outputs": [
    {
     "name": "stdout",
     "output_type": "stream",
     "text": [
      "Toyota is a type of car\n",
      "Bentley is a type of car\n",
      "Lambogini is a type of car\n",
      "g-wagon is a type of car\n",
      "benz is a type of car\n",
      "nissan is a type of car\n",
      "honda is a type of car\n",
      "Hyundai is a type of car\n",
      "volkswagen is a type of car\n",
      "volvo, is a type of car\n",
      "Innoson is a type of car\n"
     ]
    }
   ],
   "source": [
    "cars=[\"Toyota\",'Bentley','Lambogini','g-wagon',\"benz\",\"nissan\",\"honda\",'Hyundai','volkswagen',\"volvo,\",'Innoson']\n",
    "for car in cars:\n",
    "    print(f\"{car} is a type of car\")"
   ]
  },
  {
   "cell_type": "markdown",
   "metadata": {},
   "source": [
    "## Nested Loops"
   ]
  },
  {
   "cell_type": "code",
   "execution_count": 16,
   "metadata": {},
   "outputs": [
    {
     "name": "stdout",
     "output_type": "stream",
     "text": [
      "red Toyota\n",
      "blue Toyota\n",
      "green Toyota\n",
      "automatic Toyota\n",
      "manual Toyota\n",
      "red Bentley\n",
      "blue Bentley\n",
      "green Bentley\n",
      "automatic Bentley\n",
      "manual Bentley\n",
      "red Lambogini\n",
      "blue Lambogini\n",
      "green Lambogini\n",
      "automatic Lambogini\n",
      "manual Lambogini\n",
      "red g-wagon\n",
      "blue g-wagon\n",
      "green g-wagon\n",
      "automatic g-wagon\n",
      "manual g-wagon\n",
      "red benz\n",
      "blue benz\n",
      "green benz\n",
      "automatic benz\n",
      "manual benz\n",
      "red nissan\n",
      "blue nissan\n",
      "green nissan\n",
      "automatic nissan\n",
      "manual nissan\n",
      "red honda\n",
      "blue honda\n",
      "green honda\n",
      "automatic honda\n",
      "manual honda\n",
      "red Hyundai\n",
      "blue Hyundai\n",
      "green Hyundai\n",
      "automatic Hyundai\n",
      "manual Hyundai\n",
      "red volkswagen\n",
      "blue volkswagen\n",
      "green volkswagen\n",
      "automatic volkswagen\n",
      "manual volkswagen\n",
      "red volvo,\n",
      "blue volvo,\n",
      "green volvo,\n",
      "automatic volvo,\n",
      "manual volvo,\n",
      "red Innoson\n",
      "blue Innoson\n",
      "green Innoson\n",
      "automatic Innoson\n",
      "manual Innoson\n"
     ]
    }
   ],
   "source": [
    "cars=[\"Toyota\",'Bentley','Lambogini','g-wagon',\"benz\",\"nissan\",\"honda\",'Hyundai','volkswagen',\"volvo,\",'Innoson']\n",
    "properties=['red','blue',\"green\",'automatic','manual']\n",
    "for car in cars:\n",
    "    for prop in properties:\n",
    "        print(prop,car)\n"
   ]
  },
  {
   "cell_type": "code",
   "execution_count": 22,
   "metadata": {},
   "outputs": [
    {
     "name": "stdout",
     "output_type": "stream",
     "text": [
      "this is a red Toyota\n",
      "this is a blue Toyota\n",
      "this is a green Toyota\n",
      "this is a automatic Toyota\n",
      "this is a manual Toyota\n",
      "this is a red Bentley\n",
      "this is a blue Bentley\n",
      "this is a green Bentley\n",
      "this is a automatic Bentley\n",
      "this is a manual Bentley\n",
      "this is a red Lambogini\n",
      "this is a blue Lambogini\n",
      "this is a green Lambogini\n",
      "this is a automatic Lambogini\n",
      "this is a manual Lambogini\n",
      "this is a red g-wagon\n",
      "this is a blue g-wagon\n",
      "this is a green g-wagon\n",
      "this is a automatic g-wagon\n",
      "this is a manual g-wagon\n",
      "this is a red benz\n",
      "this is a blue benz\n",
      "this is a green benz\n",
      "this is a automatic benz\n",
      "this is a manual benz\n",
      "this is a red nissan\n",
      "this is a blue nissan\n",
      "this is a green nissan\n",
      "this is a automatic nissan\n",
      "this is a manual nissan\n",
      "this is a red honda\n",
      "this is a blue honda\n",
      "this is a green honda\n",
      "this is a automatic honda\n",
      "this is a manual honda\n",
      "this is a red Hyundai\n",
      "this is a blue Hyundai\n",
      "this is a green Hyundai\n",
      "this is a automatic Hyundai\n",
      "this is a manual Hyundai\n",
      "this is a red volkswagen\n",
      "this is a blue volkswagen\n",
      "this is a green volkswagen\n",
      "this is a automatic volkswagen\n",
      "this is a manual volkswagen\n",
      "this is a red volvo,\n",
      "this is a blue volvo,\n",
      "this is a green volvo,\n",
      "this is a automatic volvo,\n",
      "this is a manual volvo,\n",
      "this is a red Innoson\n",
      "this is a blue Innoson\n",
      "this is a green Innoson\n",
      "this is a automatic Innoson\n",
      "this is a manual Innoson\n"
     ]
    }
   ],
   "source": [
    "cars=[\"Toyota\",'Bentley','Lambogini','g-wagon',\"benz\",\"nissan\",\"honda\",'Hyundai','volkswagen',\"volvo,\",'Innoson']\n",
    "properties=['red','blue',\"green\",'automatic','manual']\n",
    "for car in cars:\n",
    "    for prop in properties:\n",
    "        print(f'this is a {prop} {car}')"
   ]
  },
  {
   "cell_type": "code",
   "execution_count": 28,
   "metadata": {},
   "outputs": [
    {
     "name": "stdout",
     "output_type": "stream",
     "text": [
      "Toyota is a type of car\n",
      "Bentley is a type of car\n",
      "g-wagon is a type of car\n",
      "benz is a type of car\n",
      "nissan is a type of car\n",
      "honda is a type of car\n",
      "Hyundai is a type of car\n",
      "volkswagen is a type of car\n",
      "Innoson is a type of car\n"
     ]
    }
   ],
   "source": [
    "cars=[\"Toyota\",'Bentley','Lambogini','g-wagon',\"benz\",\"nissan\",\"honda\",'Hyundai','volkswagen',\"volvo\",'Innoson']\n",
    "for car in cars:\n",
    "    if car==\"Lambogini\" or car ==\"volvo\":\n",
    "        continue\n",
    "    print(f\"{car} is a type of car\")"
   ]
  },
  {
   "cell_type": "code",
   "execution_count": 29,
   "metadata": {},
   "outputs": [],
   "source": [
    "## pass statement\n",
    "if 3>2:\n",
    "    pass"
   ]
  },
  {
   "cell_type": "code",
   "execution_count": 32,
   "metadata": {},
   "outputs": [],
   "source": [
    "a,b=7,6\n",
    "if a>b:\n",
    "    pass\n",
    "else:\n",
    "    print(\"Its not\")"
   ]
  },
  {
   "cell_type": "markdown",
   "metadata": {},
   "source": [
    "## Exercise 64: No More Pennies\n",
    "#### February 4, 2013was the last day that pennies were distributed by the Royal Canadian Mint. Now that pennies have been phased out retailers must adjust totals so that they are multiples of 5 cents when they are paid for with cash (credit card and debit card transactions continue to be charged to the penny). While retailers have some freedom in how they do this, most choose to round to the closest nickel.\n",
    "#### Write a program that reads prices from the user until a blank line is entered. Display the total cost of all the entered items on one line, followed by the amount due if the customer pays with cash on a second line. The amount due for a cash payment should be rounded to the nearest nickel. One way to compute the cash payment amount is to begin by determining how many pennies would be needed to pay the total. \n",
    "#### Then compute the remainder when this number of pennies is divided by 5. Finally, adjust the total down if the remainder is less than 2.5. Otherwise adjust the total up."
   ]
  },
  {
   "cell_type": "code",
   "execution_count": 3,
   "metadata": {},
   "outputs": [
    {
     "name": "stdout",
     "output_type": "stream",
     "text": [
      "Enter prices of commodities:\n",
      "Enter prices of commodities:4\n",
      "['4']\n"
     ]
    }
   ],
   "source": [
    "price=[]\n",
    "prices=input(\"Enter prices of commodities:\")\n",
    "while prices==\" \":\n",
    "    break\n",
    "prices=input(\"Enter prices of commodities:\")\n",
    "price.append(prices)\n",
    "print(price)"
   ]
  },
  {
   "cell_type": "markdown",
   "metadata": {},
   "source": [
    "## Exercise 61:Average\n",
    "#### In this exercise you will create a program that computes the average of a collection of values entered by the user. The user will enter 0 as a sentinel value to indicate that no further values will be provided. Your program should display an appropriate error message if the first value entered by the user is 0."
   ]
  },
  {
   "cell_type": "code",
   "execution_count": 2,
   "metadata": {},
   "outputs": [
    {
     "name": "stdout",
     "output_type": "stream",
     "text": [
      "Enter a value: 34\n",
      "Enter a value: 5\n",
      "Enter a value: 0\n",
      "[34, 5]\n"
     ]
    }
   ],
   "source": [
    "value=[]\n",
    "while True:\n",
    "    values=int(input(\"Enter a value: \"))\n",
    "    if values==0:\n",
    "        break\n",
    "    value.append(values)\n",
    "print(value)"
   ]
  },
  {
   "cell_type": "code",
   "execution_count": 14,
   "metadata": {},
   "outputs": [
    {
     "name": "stdout",
     "output_type": "stream",
     "text": [
      "Enter a value: 0\n",
      "error\n",
      "[0]\n"
     ]
    }
   ],
   "source": [
    "value=[]\n",
    "while True:\n",
    "    values=int(input(\"Enter a value: \"))\n",
    "    value.append(values)\n",
    "    if value[0]==0:\n",
    "        print(\"error\")\n",
    "        break\n",
    "    value.pop()\n",
    "    if values==0:\n",
    "        break\n",
    "    else:\n",
    "        value.append(values)\n",
    "print(value)"
   ]
  },
  {
   "cell_type": "code",
   "execution_count": 15,
   "metadata": {},
   "outputs": [
    {
     "name": "stdout",
     "output_type": "stream",
     "text": [
      "Enter a value: 34\n",
      "Enter a value: 76\n",
      "Enter a value: 0\n",
      "[34, 76]\n"
     ]
    }
   ],
   "source": [
    "value=[]\n",
    "while True:\n",
    "    values=int(input(\"Enter a value: \"))\n",
    "    value.append(values)\n",
    "    if value[0]==0:\n",
    "        print(\"error\")\n",
    "        break\n",
    "    value.pop()\n",
    "    if values==0:\n",
    "        break\n",
    "    else:\n",
    "        value.append(values)\n",
    "if len(value)==1 and value[0]==0:\n",
    "    value.clear()\n",
    "else:\n",
    "    print(value)"
   ]
  },
  {
   "cell_type": "code",
   "execution_count": null,
   "metadata": {},
   "outputs": [],
   "source": []
  }
 ],
 "metadata": {
  "kernelspec": {
   "display_name": "Python 3",
   "language": "python",
   "name": "python3"
  },
  "language_info": {
   "codemirror_mode": {
    "name": "ipython",
    "version": 3
   },
   "file_extension": ".py",
   "mimetype": "text/x-python",
   "name": "python",
   "nbconvert_exporter": "python",
   "pygments_lexer": "ipython3",
   "version": "3.7.3"
  }
 },
 "nbformat": 4,
 "nbformat_minor": 2
}
